{
 "cells": [
  {
   "cell_type": "markdown",
   "id": "a1ddeef8-a63f-473a-87b1-25016dbac664",
   "metadata": {},
   "source": [
    "# CMM307 - Advanced Artificial Intelligence\n",
    "### ***(Valentin Kiss - 1608118)***"
   ]
  },
  {
   "cell_type": "code",
   "execution_count": 67,
   "id": "271d0085-9ffc-4cae-b951-6ad99b25ea51",
   "metadata": {},
   "outputs": [],
   "source": [
    "# Import libraries used throughout the notebook\n",
    "import re\n",
    "\n",
    "import pandas as pd\n",
    "import numpy as np\n",
    "import nltk\n",
    "\n",
    "from sklearn.base import BaseEstimator, TransformerMixin\n",
    "from sklearn.pipeline import Pipeline\n",
    "from sklearn.feature_extraction.text import CountVectorizer\n",
    "from sklearn.feature_extraction.text import TfidfTransformer\n",
    "from sklearn.neighbors import KNeighborsClassifier\n",
    "from sklearn.model_selection import StratifiedKFold\n",
    "from sklearn.metrics import accuracy_score, f1_score, classification_report, confusion_matrix, ConfusionMatrixDisplay\n",
    "from sklearn.model_selection import train_test_split\n",
    "\n",
    "from nltk.tokenize import word_tokenize\n",
    "from nltk.corpus import stopwords\n",
    "from nltk.stem.snowball import SnowballStemmer\n",
    "from nltk.stem.wordnet import WordNetLemmatizer\n",
    "\n",
    "from tensorflow.keras.preprocessing.text import Tokenizer\n",
    "from tensorflow.keras.preprocessing.sequence import pad_sequences\n",
    "from tensorflow import keras\n",
    "from keras.layers import Embedding, Bidirectional, LSTM, Dropout, GlobalMaxPooling1D, Dense, Flatten\n",
    "from tensorflow.keras.callbacks import EarlyStopping\n",
    "\n",
    "from gensim.models.doc2vec import TaggedDocument\n",
    "from lbl2vec import Lbl2Vec\n",
    "\n",
    "import matplotlib.pyplot as plt"
   ]
  },
  {
   "cell_type": "markdown",
   "id": "0e434141-24df-4504-9434-e7ff70aab740",
   "metadata": {},
   "source": [
    "## Section 1 - Dataset\n",
    "\n",
    "The selected dataset (AG's News Topic Classification Dataset) is a subset of the AG collection of more than 1 million news articles. This dataset contains 127,600 news articles divide into training and testing sets. The articles are categorized into four distinct classes: Business, Science/Technology, Sports & World which then would present a Multi-Class Text Classification problem. The aim of this project is to implement and evaluate different NLP techniques to process unstructured text data to extract meaningful patterns which then can be used to allocate the corresponding topic to news articles."
   ]
  },
  {
   "cell_type": "markdown",
   "id": "75c25b30-5eb0-4f85-99b9-c78d55ec8fc6",
   "metadata": {},
   "source": [
    "### Exploratory Data Analysis\n",
    "\n",
    "***Load and Explore the dataset***"
   ]
  },
  {
   "cell_type": "code",
   "execution_count": 68,
   "id": "20a19a02-305f-411c-b606-c0009637a162",
   "metadata": {},
   "outputs": [],
   "source": [
    "# Load the train & test datasets into a Pandas DF\n",
    "train_df = pd.read_csv('./ag_news_data/train.csv')\n",
    "test_df = pd.read_csv('./ag_news_data/test.csv')"
   ]
  },
  {
   "cell_type": "code",
   "execution_count": 69,
   "id": "cd3344b7-28d4-4b78-9af9-6373fdecc688",
   "metadata": {
    "scrolled": true
   },
   "outputs": [
    {
     "data": {
      "text/html": [
       "<div>\n",
       "<style scoped>\n",
       "    .dataframe tbody tr th:only-of-type {\n",
       "        vertical-align: middle;\n",
       "    }\n",
       "\n",
       "    .dataframe tbody tr th {\n",
       "        vertical-align: top;\n",
       "    }\n",
       "\n",
       "    .dataframe thead th {\n",
       "        text-align: right;\n",
       "    }\n",
       "</style>\n",
       "<table border=\"1\" class=\"dataframe\">\n",
       "  <thead>\n",
       "    <tr style=\"text-align: right;\">\n",
       "      <th></th>\n",
       "      <th>Class Index</th>\n",
       "      <th>Title</th>\n",
       "      <th>Description</th>\n",
       "    </tr>\n",
       "  </thead>\n",
       "  <tbody>\n",
       "    <tr>\n",
       "      <th>0</th>\n",
       "      <td>3</td>\n",
       "      <td>Wall St. Bears Claw Back Into the Black (Reuters)</td>\n",
       "      <td>Reuters - Short-sellers, Wall Street's dwindli...</td>\n",
       "    </tr>\n",
       "    <tr>\n",
       "      <th>1</th>\n",
       "      <td>3</td>\n",
       "      <td>Carlyle Looks Toward Commercial Aerospace (Reu...</td>\n",
       "      <td>Reuters - Private investment firm Carlyle Grou...</td>\n",
       "    </tr>\n",
       "    <tr>\n",
       "      <th>2</th>\n",
       "      <td>3</td>\n",
       "      <td>Oil and Economy Cloud Stocks' Outlook (Reuters)</td>\n",
       "      <td>Reuters - Soaring crude prices plus worries\\ab...</td>\n",
       "    </tr>\n",
       "    <tr>\n",
       "      <th>3</th>\n",
       "      <td>3</td>\n",
       "      <td>Iraq Halts Oil Exports from Main Southern Pipe...</td>\n",
       "      <td>Reuters - Authorities have halted oil export\\f...</td>\n",
       "    </tr>\n",
       "    <tr>\n",
       "      <th>4</th>\n",
       "      <td>3</td>\n",
       "      <td>Oil prices soar to all-time record, posing new...</td>\n",
       "      <td>AFP - Tearaway world oil prices, toppling reco...</td>\n",
       "    </tr>\n",
       "  </tbody>\n",
       "</table>\n",
       "</div>"
      ],
      "text/plain": [
       "   Class Index                                              Title  \\\n",
       "0            3  Wall St. Bears Claw Back Into the Black (Reuters)   \n",
       "1            3  Carlyle Looks Toward Commercial Aerospace (Reu...   \n",
       "2            3    Oil and Economy Cloud Stocks' Outlook (Reuters)   \n",
       "3            3  Iraq Halts Oil Exports from Main Southern Pipe...   \n",
       "4            3  Oil prices soar to all-time record, posing new...   \n",
       "\n",
       "                                         Description  \n",
       "0  Reuters - Short-sellers, Wall Street's dwindli...  \n",
       "1  Reuters - Private investment firm Carlyle Grou...  \n",
       "2  Reuters - Soaring crude prices plus worries\\ab...  \n",
       "3  Reuters - Authorities have halted oil export\\f...  \n",
       "4  AFP - Tearaway world oil prices, toppling reco...  "
      ]
     },
     "execution_count": 69,
     "metadata": {},
     "output_type": "execute_result"
    }
   ],
   "source": [
    "# Output the first few rows in the dataset\n",
    "train_df.head()"
   ]
  },
  {
   "cell_type": "markdown",
   "id": "4e74974e-ba06-4c37-9451-73d2c82941a0",
   "metadata": {},
   "source": [
    "Both datasets contain 3 columns\n",
    " * Class Index which is our label which we will try to predict\n",
    " * The title of the article\n",
    " * The description for the article"
   ]
  },
  {
   "cell_type": "code",
   "execution_count": 70,
   "id": "e48923a8-dc3d-4e9f-b033-0320dc9b4537",
   "metadata": {},
   "outputs": [],
   "source": [
    "# Rename columns\n",
    "train_df.columns = ['class', 'title', 'description']\n",
    "test_df.columns = ['class', 'title', 'description']"
   ]
  },
  {
   "cell_type": "code",
   "execution_count": 71,
   "id": "97efbe7e-04e3-4507-add9-c887d65326dc",
   "metadata": {},
   "outputs": [
    {
     "name": "stdout",
     "output_type": "stream",
     "text": [
      "Training data shape: (120000, 3)\n",
      "Testing data shape: (7600, 3)\n"
     ]
    }
   ],
   "source": [
    "# Output the shape of both the train and test DFs\n",
    "print(f'Training data shape: {train_df.shape}')\n",
    "print(f'Testing data shape: {test_df.shape}')"
   ]
  },
  {
   "cell_type": "code",
   "execution_count": 72,
   "id": "e665ed62-1f37-4fbb-b67d-33addbc893db",
   "metadata": {
    "scrolled": true
   },
   "outputs": [
    {
     "name": "stdout",
     "output_type": "stream",
     "text": [
      "class\n",
      "3    30000\n",
      "4    30000\n",
      "2    30000\n",
      "1    30000\n",
      "Name: count, dtype: int64\n",
      "class\n",
      "3    1900\n",
      "4    1900\n",
      "2    1900\n",
      "1    1900\n",
      "Name: count, dtype: int64\n"
     ]
    }
   ],
   "source": [
    "# Output class distribution for train / test data\n",
    "print(train_df['class'].value_counts())\n",
    "print(test_df['class'].value_counts())"
   ]
  },
  {
   "cell_type": "markdown",
   "id": "d46e8ee2-a95d-49a1-8c87-fbab557d2f5f",
   "metadata": {},
   "source": [
    "* Number of training samples: 120,000\n",
    "* Number of test samples: 7,600\n",
    "\n",
    "Both train and test sets are balanced in terms of class labels. \n",
    "Class labels range from 1 - 4, representing the four topics"
   ]
  },
  {
   "cell_type": "code",
   "execution_count": 73,
   "id": "74d5a7c4-d175-45ab-931a-6657e7a7a6d7",
   "metadata": {
    "scrolled": true
   },
   "outputs": [
    {
     "name": "stdout",
     "output_type": "stream",
     "text": [
      "count    120000.000000\n",
      "mean        193.388517\n",
      "std          64.472066\n",
      "min           6.000000\n",
      "25%         155.000000\n",
      "50%         188.000000\n",
      "75%         219.000000\n",
      "max         985.000000\n",
      "Name: description, dtype: float64\n",
      "count    7600.000000\n",
      "mean      192.408026\n",
      "std        63.192774\n",
      "min        37.000000\n",
      "25%       154.000000\n",
      "50%       187.000000\n",
      "75%       218.000000\n",
      "max       830.000000\n",
      "Name: description, dtype: float64\n"
     ]
    }
   ],
   "source": [
    "# Check the length of news article descriptions in both train and test sets\n",
    "print(train_df['description'].apply(len).describe())\n",
    "print(test_df['description'].apply(len).describe())"
   ]
  },
  {
   "cell_type": "code",
   "execution_count": 74,
   "id": "1d03afd7-a676-4b4e-9a8d-9b6929bac96b",
   "metadata": {},
   "outputs": [
    {
     "name": "stdout",
     "output_type": "stream",
     "text": [
      "count    120000.000000\n",
      "mean         42.071508\n",
      "std          13.569405\n",
      "min           6.000000\n",
      "25%          33.000000\n",
      "50%          41.000000\n",
      "75%          49.000000\n",
      "max         115.000000\n",
      "Name: title, dtype: float64\n",
      "count    7600.000000\n",
      "mean       41.882368\n",
      "std        13.477635\n",
      "min         6.000000\n",
      "25%        33.000000\n",
      "50%        41.000000\n",
      "75%        49.000000\n",
      "max        96.000000\n",
      "Name: title, dtype: float64\n"
     ]
    }
   ],
   "source": [
    "# Check the length of news article titless in both train and test sets\n",
    "print(train_df['title'].apply(len).describe())\n",
    "print(test_df['title'].apply(len).describe())"
   ]
  },
  {
   "cell_type": "markdown",
   "id": "449caeea-a580-4888-902d-5da1856566d4",
   "metadata": {},
   "source": [
    "All articles contain data in both their title and their description.\n",
    "\n",
    "The average length of an article is just below 200 characters. Average lengths for both articles title and description are matched in both test and train sets."
   ]
  },
  {
   "cell_type": "markdown",
   "id": "15436891-fad5-4872-8d38-37be6fe3e567",
   "metadata": {},
   "source": [
    "### Text Pre-Processing"
   ]
  },
  {
   "cell_type": "code",
   "execution_count": 75,
   "id": "327eaa8b-194d-4491-bb4e-95df7bd6ad45",
   "metadata": {},
   "outputs": [
    {
     "name": "stderr",
     "output_type": "stream",
     "text": [
      "[nltk_data] Downloading package wordnet to\n",
      "[nltk_data]     C:\\Users\\Valentin\\AppData\\Roaming\\nltk_data...\n",
      "[nltk_data]   Package wordnet is already up-to-date!\n",
      "[nltk_data] Downloading package punkt_tab to\n",
      "[nltk_data]     C:\\Users\\Valentin\\AppData\\Roaming\\nltk_data...\n",
      "[nltk_data]   Package punkt_tab is already up-to-date!\n",
      "[nltk_data] Downloading package stopwords to\n",
      "[nltk_data]     C:\\Users\\Valentin\\AppData\\Roaming\\nltk_data...\n",
      "[nltk_data]   Package stopwords is already up-to-date!\n"
     ]
    }
   ],
   "source": [
    "# Create the Preprocessing class\n",
    "\n",
    "nltk.download('wordnet')\n",
    "nltk.download('punkt_tab')\n",
    "nltk.download('stopwords')\n",
    "\n",
    "class BasicPreProcessor(BaseEstimator, TransformerMixin):\n",
    "    \n",
    "    def __init__(self, stem=False, lem=False):\n",
    "        self.stem = stem\n",
    "        self.lem = lem\n",
    "        self.stopwords = stopwords.words('english')\n",
    "        self.stopwords.extend(['com', 'lt', 'gt', 'quot']) # extend stopwords with words specific to this dataset\n",
    "\n",
    "    def fit(self, X, y=None):\n",
    "        return self\n",
    "\n",
    "    def transform(self, X, y=None):\n",
    "        return X.apply(self._preprocess)\n",
    "\n",
    "    def _preprocess(self, text):\n",
    "        text = re.sub(r'target=\\S+|HREF=\\S+', '', text) # remove HREF & Target attributes for URLs\n",
    "        token_text = word_tokenize(text) # break down text into individual tokens\n",
    "        normd_text = [token.lower() for token in token_text if token.isalpha()] # convert to lower-case and remove digits & special characters\n",
    "        swr_text = [token for token in normd_text if token not in self.stopwords] # remove stopwords to keep attention on words that are meaningful\n",
    "\n",
    "        if self.stem: # if stemming is set to True\n",
    "            stemmer = SnowballStemmer(\"english\") # instantiate a Snowball Stemmer\n",
    "            stemmed_text = [stemmer.stem(word) for word in swr_text]\n",
    "            return ' '.join(stemmed_text) # return the processed text\n",
    "\n",
    "        if self.lem: # if lemmatization is set to True\n",
    "            lem = WordNetLemmatizer() # Instantiate a Word Net Lemmatizer\n",
    "            lemmatized_text = [lem.lemmatize(word) for word in swr_text]\n",
    "            return ' '.join(lemmatized_text) # return the processed text\n",
    "            \n",
    "        return ' '.join(swr_text) # return the processed text"
   ]
  },
  {
   "cell_type": "code",
   "execution_count": 76,
   "id": "16d29117-3402-4e26-ad57-6bf2e68334aa",
   "metadata": {},
   "outputs": [
    {
     "name": "stdout",
     "output_type": "stream",
     "text": [
      "Basic Pre-Processing: chicago reuters cosmetics manufacturer estee lauder tuesday posted bigger quarterly profit bolstered sales europe improving retail market\n",
      "Lem Pre-Processing: chicago reuters cosmetic manufacturer estee lauder tuesday posted bigger quarterly profit bolstered sale europe improving retail market\n",
      "Stem Pre-Processing: chicago reuter cosmet manufactur este lauder tuesday post bigger quarter profit bolster sale europ improv retail market\n"
     ]
    }
   ],
   "source": [
    "# Use a sample description from the dataset to test the pre-processor\n",
    "sample_text = ' CHICAGO (Reuters) - Cosmetics manufacturer Estee Lauder  Cos. Inc. &lt;A HREF=\"http://www.investor.reuters.com/FullQuote.aspx?ticker=EL.N target=/stocks/quickinfo/fullquote\"&gt;EL.N&lt;/A&gt; on Tuesday posted a bigger quarterly profit,  bolstered by sales in Europe and an improving U.S. retail  market.'\n",
    "\n",
    "basic_pre_processor = BasicPreProcessor()\n",
    "lem_pre_processor = BasicPreProcessor(lem=True)\n",
    "stem_pre_processor = BasicPreProcessor(stem=True)\n",
    "\n",
    "print(f\"Basic Pre-Processing: {basic_pre_processor._preprocess(sample_text)}\")\n",
    "print(f\"Lem Pre-Processing: {lem_pre_processor._preprocess(sample_text)}\")\n",
    "print(f\"Stem Pre-Processing: {stem_pre_processor._preprocess(sample_text)}\")"
   ]
  },
  {
   "cell_type": "code",
   "execution_count": 77,
   "id": "c9233ddc-b989-4069-9c35-07c7133ed82d",
   "metadata": {
    "scrolled": true
   },
   "outputs": [
    {
     "data": {
      "text/html": [
       "<div>\n",
       "<style scoped>\n",
       "    .dataframe tbody tr th:only-of-type {\n",
       "        vertical-align: middle;\n",
       "    }\n",
       "\n",
       "    .dataframe tbody tr th {\n",
       "        vertical-align: top;\n",
       "    }\n",
       "\n",
       "    .dataframe thead th {\n",
       "        text-align: right;\n",
       "    }\n",
       "</style>\n",
       "<table border=\"1\" class=\"dataframe\">\n",
       "  <thead>\n",
       "    <tr style=\"text-align: right;\">\n",
       "      <th></th>\n",
       "      <th>class</th>\n",
       "      <th>title</th>\n",
       "      <th>description</th>\n",
       "      <th>processed_text</th>\n",
       "    </tr>\n",
       "  </thead>\n",
       "  <tbody>\n",
       "    <tr>\n",
       "      <th>0</th>\n",
       "      <td>3</td>\n",
       "      <td>Wall St. Bears Claw Back Into the Black (Reuters)</td>\n",
       "      <td>Reuters - Short-sellers, Wall Street's dwindli...</td>\n",
       "      <td>wall bear claw back black reuters reuters wall...</td>\n",
       "    </tr>\n",
       "    <tr>\n",
       "      <th>1</th>\n",
       "      <td>3</td>\n",
       "      <td>Carlyle Looks Toward Commercial Aerospace (Reu...</td>\n",
       "      <td>Reuters - Private investment firm Carlyle Grou...</td>\n",
       "      <td>carlyle look toward commercial aerospace reute...</td>\n",
       "    </tr>\n",
       "    <tr>\n",
       "      <th>2</th>\n",
       "      <td>3</td>\n",
       "      <td>Oil and Economy Cloud Stocks' Outlook (Reuters)</td>\n",
       "      <td>Reuters - Soaring crude prices plus worries\\ab...</td>\n",
       "      <td>oil economy cloud stock outlook reuters reuter...</td>\n",
       "    </tr>\n",
       "    <tr>\n",
       "      <th>3</th>\n",
       "      <td>3</td>\n",
       "      <td>Iraq Halts Oil Exports from Main Southern Pipe...</td>\n",
       "      <td>Reuters - Authorities have halted oil export\\f...</td>\n",
       "      <td>iraq halt oil export main southern pipeline re...</td>\n",
       "    </tr>\n",
       "    <tr>\n",
       "      <th>4</th>\n",
       "      <td>3</td>\n",
       "      <td>Oil prices soar to all-time record, posing new...</td>\n",
       "      <td>AFP - Tearaway world oil prices, toppling reco...</td>\n",
       "      <td>oil price soar record posing new menace u econ...</td>\n",
       "    </tr>\n",
       "  </tbody>\n",
       "</table>\n",
       "</div>"
      ],
      "text/plain": [
       "   class                                              title  \\\n",
       "0      3  Wall St. Bears Claw Back Into the Black (Reuters)   \n",
       "1      3  Carlyle Looks Toward Commercial Aerospace (Reu...   \n",
       "2      3    Oil and Economy Cloud Stocks' Outlook (Reuters)   \n",
       "3      3  Iraq Halts Oil Exports from Main Southern Pipe...   \n",
       "4      3  Oil prices soar to all-time record, posing new...   \n",
       "\n",
       "                                         description  \\\n",
       "0  Reuters - Short-sellers, Wall Street's dwindli...   \n",
       "1  Reuters - Private investment firm Carlyle Grou...   \n",
       "2  Reuters - Soaring crude prices plus worries\\ab...   \n",
       "3  Reuters - Authorities have halted oil export\\f...   \n",
       "4  AFP - Tearaway world oil prices, toppling reco...   \n",
       "\n",
       "                                      processed_text  \n",
       "0  wall bear claw back black reuters reuters wall...  \n",
       "1  carlyle look toward commercial aerospace reute...  \n",
       "2  oil economy cloud stock outlook reuters reuter...  \n",
       "3  iraq halt oil export main southern pipeline re...  \n",
       "4  oil price soar record posing new menace u econ...  "
      ]
     },
     "execution_count": 77,
     "metadata": {},
     "output_type": "execute_result"
    }
   ],
   "source": [
    "# Pre-process the texts (title & description) in the training data and save it in add it in a new column\n",
    "train_df['processed_text'] = lem_pre_processor.fit_transform(train_df['title'] + '. ' + train_df['description'])\n",
    "train_df.head()"
   ]
  },
  {
   "cell_type": "code",
   "execution_count": 78,
   "id": "b1a39d07-e63a-40af-960f-1af39fed7df8",
   "metadata": {
    "scrolled": true
   },
   "outputs": [
    {
     "data": {
      "text/plain": [
       "count    120000.000000\n",
       "mean        165.013542\n",
       "std          43.950606\n",
       "min           8.000000\n",
       "25%         137.000000\n",
       "50%         163.000000\n",
       "75%         189.000000\n",
       "max         686.000000\n",
       "Name: processed_text, dtype: float64"
      ]
     },
     "execution_count": 78,
     "metadata": {},
     "output_type": "execute_result"
    }
   ],
   "source": [
    "train_df['processed_text'].apply(len).describe()"
   ]
  },
  {
   "cell_type": "code",
   "execution_count": 79,
   "id": "e5dd912d-0b2f-4238-b0dd-79a70bb02dcd",
   "metadata": {
    "scrolled": true
   },
   "outputs": [
    {
     "data": {
      "text/html": [
       "<div>\n",
       "<style scoped>\n",
       "    .dataframe tbody tr th:only-of-type {\n",
       "        vertical-align: middle;\n",
       "    }\n",
       "\n",
       "    .dataframe tbody tr th {\n",
       "        vertical-align: top;\n",
       "    }\n",
       "\n",
       "    .dataframe thead th {\n",
       "        text-align: right;\n",
       "    }\n",
       "</style>\n",
       "<table border=\"1\" class=\"dataframe\">\n",
       "  <thead>\n",
       "    <tr style=\"text-align: right;\">\n",
       "      <th></th>\n",
       "      <th>class</th>\n",
       "      <th>title</th>\n",
       "      <th>description</th>\n",
       "      <th>processed_text</th>\n",
       "    </tr>\n",
       "  </thead>\n",
       "  <tbody>\n",
       "    <tr>\n",
       "      <th>0</th>\n",
       "      <td>3</td>\n",
       "      <td>Fears for T N pension after talks</td>\n",
       "      <td>Unions representing workers at Turner   Newall...</td>\n",
       "      <td>fear n pension talk union representing worker ...</td>\n",
       "    </tr>\n",
       "    <tr>\n",
       "      <th>1</th>\n",
       "      <td>4</td>\n",
       "      <td>The Race is On: Second Private Team Sets Launc...</td>\n",
       "      <td>SPACE.com - TORONTO, Canada -- A second\\team o...</td>\n",
       "      <td>race second private team set launch date human...</td>\n",
       "    </tr>\n",
       "    <tr>\n",
       "      <th>2</th>\n",
       "      <td>4</td>\n",
       "      <td>Ky. Company Wins Grant to Study Peptides (AP)</td>\n",
       "      <td>AP - A company founded by a chemistry research...</td>\n",
       "      <td>company win grant study peptide ap ap company ...</td>\n",
       "    </tr>\n",
       "    <tr>\n",
       "      <th>3</th>\n",
       "      <td>4</td>\n",
       "      <td>Prediction Unit Helps Forecast Wildfires (AP)</td>\n",
       "      <td>AP - It's barely dawn when Mike Fitzpatrick st...</td>\n",
       "      <td>prediction unit help forecast wildfire ap ap b...</td>\n",
       "    </tr>\n",
       "    <tr>\n",
       "      <th>4</th>\n",
       "      <td>4</td>\n",
       "      <td>Calif. Aims to Limit Farm-Related Smog (AP)</td>\n",
       "      <td>AP - Southern California's smog-fighting agenc...</td>\n",
       "      <td>calif aim limit smog ap ap southern california...</td>\n",
       "    </tr>\n",
       "  </tbody>\n",
       "</table>\n",
       "</div>"
      ],
      "text/plain": [
       "   class                                              title  \\\n",
       "0      3                  Fears for T N pension after talks   \n",
       "1      4  The Race is On: Second Private Team Sets Launc...   \n",
       "2      4      Ky. Company Wins Grant to Study Peptides (AP)   \n",
       "3      4      Prediction Unit Helps Forecast Wildfires (AP)   \n",
       "4      4        Calif. Aims to Limit Farm-Related Smog (AP)   \n",
       "\n",
       "                                         description  \\\n",
       "0  Unions representing workers at Turner   Newall...   \n",
       "1  SPACE.com - TORONTO, Canada -- A second\\team o...   \n",
       "2  AP - A company founded by a chemistry research...   \n",
       "3  AP - It's barely dawn when Mike Fitzpatrick st...   \n",
       "4  AP - Southern California's smog-fighting agenc...   \n",
       "\n",
       "                                      processed_text  \n",
       "0  fear n pension talk union representing worker ...  \n",
       "1  race second private team set launch date human...  \n",
       "2  company win grant study peptide ap ap company ...  \n",
       "3  prediction unit help forecast wildfire ap ap b...  \n",
       "4  calif aim limit smog ap ap southern california...  "
      ]
     },
     "execution_count": 79,
     "metadata": {},
     "output_type": "execute_result"
    }
   ],
   "source": [
    "# Pre-process the texts (title & description) in the test data and save it in add it in a new column\n",
    "test_df['processed_text'] = lem_pre_processor.fit_transform(test_df['title'] + '. ' + test_df['description'])\n",
    "test_df.head()"
   ]
  },
  {
   "cell_type": "markdown",
   "id": "8dc2aca2-1bf8-40bd-a5ff-8ae116cd5b8f",
   "metadata": {},
   "source": [
    "## Section 2 - Representation Learning"
   ]
  },
  {
   "cell_type": "markdown",
   "id": "40a3e5b8-6e22-4d94-ba0e-b2797b660a40",
   "metadata": {},
   "source": [
    "### TF-IDF "
   ]
  },
  {
   "cell_type": "code",
   "execution_count": 80,
   "id": "087f2fb7-69d5-43cd-ac65-6f85d974fded",
   "metadata": {
    "scrolled": true
   },
   "outputs": [
    {
     "name": "stdout",
     "output_type": "stream",
     "text": [
      "[[0.         0.         0.         ... 0.         0.         0.        ]\n",
      " [0.         0.         0.         ... 0.         0.         0.        ]\n",
      " [0.         0.         0.         ... 0.         0.         0.        ]\n",
      " ...\n",
      " [0.         0.         0.         ... 0.         0.         0.        ]\n",
      " [0.         0.         0.         ... 0.12446933 0.         0.        ]\n",
      " [0.         0.         0.         ... 0.         0.30393102 0.        ]]\n",
      "(120000, 400)\n",
      "[[0.         0.         0.         ... 0.         0.         0.        ]\n",
      " [0.         0.         0.         ... 0.         0.         0.        ]\n",
      " [0.         0.         0.         ... 0.         0.         0.        ]\n",
      " ...\n",
      " [0.         0.         0.         ... 0.28366504 0.         0.        ]\n",
      " [0.         0.         0.         ... 0.         0.         0.        ]\n",
      " [0.         0.         0.         ... 0.         0.         0.        ]]\n",
      "(7600, 400)\n"
     ]
    }
   ],
   "source": [
    "# First representation - TF-IDF\n",
    "tfidf_text_representation = Pipeline(\n",
    "    [\n",
    "        ('count_vectorizer', CountVectorizer(max_features=400)),\n",
    "        ('tfidf_transformer', TfidfTransformer())\n",
    "    ]\n",
    ")\n",
    "\n",
    "tfidf_train_repr = tfidf_text_representation.fit_transform(train_df['processed_text']).toarray()\n",
    "\n",
    "print(tfidf_train_repr)\n",
    "print(tfidf_train_repr.shape)\n",
    "\n",
    "tfidf_test_repr = tfidf_text_representation.fit_transform(test_df['processed_text']).toarray()\n",
    "\n",
    "print(tfidf_test_repr)\n",
    "print(tfidf_test_repr.shape)"
   ]
  },
  {
   "cell_type": "markdown",
   "id": "2d1f1f82-ad5e-4487-afbe-30e7dbe56aa6",
   "metadata": {},
   "source": [
    "**TF-IDF** captures word importance by balancing out their frequency per document and their prevalence across the whole dataset. In the AG's news dataset this can be used to give more weight for topic specific words. \n",
    "\n",
    "The TF-IDF pipeline contains:\n",
    "* CountVectorizer - to convert the pre-processed text into a sparse matrix of token counts, retaining the top 400 most informative terms.\n",
    "* TfidfTransformer - applies TF-IDF weighting to the token counts to normalize token frequencies and emphasize rare terms."
   ]
  },
  {
   "cell_type": "markdown",
   "id": "86fce369-b041-422f-baad-12ad45a4ba97",
   "metadata": {},
   "source": [
    "### Glove Embeddings"
   ]
  },
  {
   "cell_type": "code",
   "execution_count": 81,
   "id": "7b1ae3f0-185a-43bb-83ac-15a0053ba34b",
   "metadata": {},
   "outputs": [
    {
     "name": "stdout",
     "output_type": "stream",
     "text": [
      "53298\n"
     ]
    }
   ],
   "source": [
    "# Second representation - Glove\n",
    "\n",
    "texts = train_df['processed_text']\n",
    "target = train_df['class']\n",
    "\n",
    "word_tokenizer = Tokenizer()\n",
    "word_tokenizer.fit_on_texts(texts)\n",
    "\n",
    "vocab_length = len(word_tokenizer.word_index) + 1 # calculate the length of the total vocab in the training set\n",
    "print(vocab_length)"
   ]
  },
  {
   "cell_type": "code",
   "execution_count": 82,
   "id": "60572213-5f11-4eff-b8cc-bdda9b01d812",
   "metadata": {},
   "outputs": [
    {
     "data": {
      "text/plain": [
       "(53298, 50)"
      ]
     },
     "execution_count": 82,
     "metadata": {},
     "output_type": "execute_result"
    }
   ],
   "source": [
    "# Glove embeddings - use the pre-trained glove embeddings (with dimensionality of 50) to map words to their corresponding vector\n",
    "# representations\n",
    "embeddings_dictionary = dict()\n",
    "embedding_dim = 50\n",
    "\n",
    "with open('./glove_pre_trained/glove.6B.50d.txt', encoding='utf-8') as fp:\n",
    "    for line in fp.readlines():\n",
    "        records = line.split()\n",
    "        word = records[0]\n",
    "        vector_dimensions = np.asarray(records[1:], dtype='float32')\n",
    "        embeddings_dictionary [word] = vector_dimensions\n",
    "\n",
    "embedding_matrix = np.zeros((vocab_length, embedding_dim))\n",
    "for word, index in word_tokenizer.word_index.items():\n",
    "    embedding_vector = embeddings_dictionary.get(word)\n",
    "    if embedding_vector is not None:\n",
    "        embedding_matrix[index] = embedding_vector\n",
    "\n",
    "embedding_matrix.shape"
   ]
  },
  {
   "cell_type": "markdown",
   "id": "2b6bae78-16a3-470d-90ba-f7a47463cbc9",
   "metadata": {},
   "source": [
    "For the second Representation Learning approach, pre-trained **Glove embeddings** are used to derive semantic relationships between words from a co-occurence matrix. The embeddings relate to the probabilities that two words appear next to each other. \n",
    "\n",
    "In this case we are using a 50 dimensional vector space, where each dimension corresponds to an aspect of the word's meaning and how they might associate to other words in the corpus. \n",
    "\n",
    "The training data contains over 50,000 words, each word (if present) is mapped to their corresponding vector representation in the GLOVE 6B 50D embeddings to create the feature set."
   ]
  },
  {
   "cell_type": "markdown",
   "id": "955a9c94-1fce-4c37-9491-4d4ffeaa8bc4",
   "metadata": {},
   "source": [
    "## Section 3 - Baseline Algorithms"
   ]
  },
  {
   "cell_type": "markdown",
   "id": "a69e1499-659f-4410-9982-ec5775df0e2f",
   "metadata": {},
   "source": [
    "### K-Nearest Neighbors (kNN) with TF-IDF"
   ]
  },
  {
   "cell_type": "code",
   "execution_count": 83,
   "id": "e0a11aa9-e642-4b3b-983c-68ee54d1bc74",
   "metadata": {},
   "outputs": [],
   "source": [
    "# Train the kNN classifier on the full training set then make prediction on the test set\n",
    "knn_pipeline = Pipeline([\n",
    "    ('count_vectorizer', CountVectorizer(max_features=400)),\n",
    "    ('tfidf_transformer', TfidfTransformer()),  # Transform counts to TF-IDF\n",
    "    ('knn_classifier', KNeighborsClassifier(n_neighbors=5, weights='distance', metric='cosine'))\n",
    "])"
   ]
  },
  {
   "cell_type": "markdown",
   "id": "22e238c4-288f-4cf4-85b6-b6ba19e615c1",
   "metadata": {},
   "source": [
    "The first baseline algorithm is the **K-Nearest Neighbor**. \n",
    "\n",
    "KNN is an instance-based learning algorithm, to classify a new data point, the classifier identifies the 'k' closest training samples based on a distance metric. \n",
    "\n",
    "In this case, the KNN is fed the TF-IDF weighted vector representations. KNN then computes similarity between text samples based on their high-dimensional vector representation using 'cosine' similarity. The weight function has been set to 'distance' to give greater influence in voting to neighbors that are closest to the data point. "
   ]
  },
  {
   "cell_type": "markdown",
   "id": "e8414d04-2f1c-49f0-b958-531e134b5eea",
   "metadata": {},
   "source": [
    "### Bidirectional LSTM with Glove Embeddings"
   ]
  },
  {
   "cell_type": "code",
   "execution_count": 84,
   "id": "13cb5ecc-fa46-47f3-a669-ac45d2a2e0c6",
   "metadata": {
    "scrolled": true
   },
   "outputs": [
    {
     "name": "stdout",
     "output_type": "stream",
     "text": [
      "bush visit canada tour u president george bush visiting ottawa today first stop tour take europe early next year first official visit canada since becoming president four year ago skipped canada favour visiting mexico start first term office cancelled state visit canada last year canadian got vocal opposition iraq conflict cbc news report purpose visit may smooth relation damaged war iraq trade dispute canadian beef softwood lumber bush also expected ask martin stronger longer commitment peacekeeping afghanistan help organizing election rebuilding political institution iraq cbc news also speculates bush may offer definitive timetable reopening border canada cattle\n"
     ]
    }
   ],
   "source": [
    "longest_train_text = max(texts, key=lambda sentence: len(word_tokenize(sentence)))\n",
    "print(longest_train_text)"
   ]
  },
  {
   "cell_type": "code",
   "execution_count": 85,
   "id": "64cff2ac-b64b-4796-b746-d4c5f659ad7d",
   "metadata": {},
   "outputs": [
    {
     "name": "stdout",
     "output_type": "stream",
     "text": [
      "97\n"
     ]
    }
   ],
   "source": [
    "len_longest_text = len(word_tokenize(longest_train_text))\n",
    "print(len_longest_text)"
   ]
  },
  {
   "cell_type": "code",
   "execution_count": 86,
   "id": "4f472a5e-be00-4643-a2cc-5e1857e62f7a",
   "metadata": {},
   "outputs": [
    {
     "name": "stdout",
     "output_type": "stream",
     "text": [
      "(120000, 97)\n",
      "(7600, 97)\n"
     ]
    }
   ],
   "source": [
    "def embed(corpus): \n",
    "    return word_tokenizer.texts_to_sequences(corpus)\n",
    "\n",
    "train_padded_sentences = pad_sequences(\n",
    "    embed(texts), \n",
    "    len_longest_text, \n",
    "    padding='post'\n",
    ")\n",
    "\n",
    "print(train_padded_sentences.shape)\n",
    "\n",
    "test_padded_sentences = pad_sequences(\n",
    "    embed(test_df['processed_text']), \n",
    "    len_longest_text, \n",
    "    padding='post'\n",
    ")\n",
    "\n",
    "print(test_padded_sentences.shape)"
   ]
  },
  {
   "cell_type": "markdown",
   "id": "f110d21d-f2b3-47d2-b0fa-8f51dd1ddfdf",
   "metadata": {},
   "source": [
    "The Bidirectional LSTM model layers require sequences to have consistent lengths. In this case, sequences are padded to match the length of the longest sequence in the training sample. Matching the longest sequence length to avoid information loss such as if we were to truncate input sequences."
   ]
  },
  {
   "cell_type": "code",
   "execution_count": 87,
   "id": "7fcde2ec-91d6-46ab-b50c-fe4d7aab76a9",
   "metadata": {},
   "outputs": [
    {
     "data": {
      "text/html": [
       "<pre style=\"white-space:pre;overflow-x:auto;line-height:normal;font-family:Menlo,'DejaVu Sans Mono',consolas,'Courier New',monospace\"><span style=\"font-weight: bold\">Model: \"sequential_2\"</span>\n",
       "</pre>\n"
      ],
      "text/plain": [
       "\u001b[1mModel: \"sequential_2\"\u001b[0m\n"
      ]
     },
     "metadata": {},
     "output_type": "display_data"
    },
    {
     "data": {
      "text/html": [
       "<pre style=\"white-space:pre;overflow-x:auto;line-height:normal;font-family:Menlo,'DejaVu Sans Mono',consolas,'Courier New',monospace\">┏━━━━━━━━━━━━━━━━━━━━━━━━━━━━━━━━━━━━━━┳━━━━━━━━━━━━━━━━━━━━━━━━━━━━━┳━━━━━━━━━━━━━━━━━┓\n",
       "┃<span style=\"font-weight: bold\"> Layer (type)                         </span>┃<span style=\"font-weight: bold\"> Output Shape                </span>┃<span style=\"font-weight: bold\">         Param # </span>┃\n",
       "┡━━━━━━━━━━━━━━━━━━━━━━━━━━━━━━━━━━━━━━╇━━━━━━━━━━━━━━━━━━━━━━━━━━━━━╇━━━━━━━━━━━━━━━━━┩\n",
       "│ embedding_2 (<span style=\"color: #0087ff; text-decoration-color: #0087ff\">Embedding</span>)              │ ?                           │       <span style=\"color: #00af00; text-decoration-color: #00af00\">2,664,900</span> │\n",
       "├──────────────────────────────────────┼─────────────────────────────┼─────────────────┤\n",
       "│ bidirectional_2 (<span style=\"color: #0087ff; text-decoration-color: #0087ff\">Bidirectional</span>)      │ ?                           │     <span style=\"color: #00af00; text-decoration-color: #00af00\">0</span> (unbuilt) │\n",
       "├──────────────────────────────────────┼─────────────────────────────┼─────────────────┤\n",
       "│ global_max_pooling1d_2               │ ?                           │               <span style=\"color: #00af00; text-decoration-color: #00af00\">0</span> │\n",
       "│ (<span style=\"color: #0087ff; text-decoration-color: #0087ff\">GlobalMaxPooling1D</span>)                 │                             │                 │\n",
       "├──────────────────────────────────────┼─────────────────────────────┼─────────────────┤\n",
       "│ dense_12 (<span style=\"color: #0087ff; text-decoration-color: #0087ff\">Dense</span>)                     │ ?                           │     <span style=\"color: #00af00; text-decoration-color: #00af00\">0</span> (unbuilt) │\n",
       "├──────────────────────────────────────┼─────────────────────────────┼─────────────────┤\n",
       "│ dropout_10 (<span style=\"color: #0087ff; text-decoration-color: #0087ff\">Dropout</span>)                 │ ?                           │               <span style=\"color: #00af00; text-decoration-color: #00af00\">0</span> │\n",
       "├──────────────────────────────────────┼─────────────────────────────┼─────────────────┤\n",
       "│ dense_13 (<span style=\"color: #0087ff; text-decoration-color: #0087ff\">Dense</span>)                     │ ?                           │     <span style=\"color: #00af00; text-decoration-color: #00af00\">0</span> (unbuilt) │\n",
       "├──────────────────────────────────────┼─────────────────────────────┼─────────────────┤\n",
       "│ dropout_11 (<span style=\"color: #0087ff; text-decoration-color: #0087ff\">Dropout</span>)                 │ ?                           │               <span style=\"color: #00af00; text-decoration-color: #00af00\">0</span> │\n",
       "├──────────────────────────────────────┼─────────────────────────────┼─────────────────┤\n",
       "│ dense_14 (<span style=\"color: #0087ff; text-decoration-color: #0087ff\">Dense</span>)                     │ ?                           │     <span style=\"color: #00af00; text-decoration-color: #00af00\">0</span> (unbuilt) │\n",
       "├──────────────────────────────────────┼─────────────────────────────┼─────────────────┤\n",
       "│ dropout_12 (<span style=\"color: #0087ff; text-decoration-color: #0087ff\">Dropout</span>)                 │ ?                           │               <span style=\"color: #00af00; text-decoration-color: #00af00\">0</span> │\n",
       "├──────────────────────────────────────┼─────────────────────────────┼─────────────────┤\n",
       "│ dense_15 (<span style=\"color: #0087ff; text-decoration-color: #0087ff\">Dense</span>)                     │ ?                           │     <span style=\"color: #00af00; text-decoration-color: #00af00\">0</span> (unbuilt) │\n",
       "├──────────────────────────────────────┼─────────────────────────────┼─────────────────┤\n",
       "│ dropout_13 (<span style=\"color: #0087ff; text-decoration-color: #0087ff\">Dropout</span>)                 │ ?                           │               <span style=\"color: #00af00; text-decoration-color: #00af00\">0</span> │\n",
       "├──────────────────────────────────────┼─────────────────────────────┼─────────────────┤\n",
       "│ dense_16 (<span style=\"color: #0087ff; text-decoration-color: #0087ff\">Dense</span>)                     │ ?                           │     <span style=\"color: #00af00; text-decoration-color: #00af00\">0</span> (unbuilt) │\n",
       "├──────────────────────────────────────┼─────────────────────────────┼─────────────────┤\n",
       "│ dropout_14 (<span style=\"color: #0087ff; text-decoration-color: #0087ff\">Dropout</span>)                 │ ?                           │               <span style=\"color: #00af00; text-decoration-color: #00af00\">0</span> │\n",
       "├──────────────────────────────────────┼─────────────────────────────┼─────────────────┤\n",
       "│ dense_17 (<span style=\"color: #0087ff; text-decoration-color: #0087ff\">Dense</span>)                     │ ?                           │     <span style=\"color: #00af00; text-decoration-color: #00af00\">0</span> (unbuilt) │\n",
       "└──────────────────────────────────────┴─────────────────────────────┴─────────────────┘\n",
       "</pre>\n"
      ],
      "text/plain": [
       "┏━━━━━━━━━━━━━━━━━━━━━━━━━━━━━━━━━━━━━━┳━━━━━━━━━━━━━━━━━━━━━━━━━━━━━┳━━━━━━━━━━━━━━━━━┓\n",
       "┃\u001b[1m \u001b[0m\u001b[1mLayer (type)                        \u001b[0m\u001b[1m \u001b[0m┃\u001b[1m \u001b[0m\u001b[1mOutput Shape               \u001b[0m\u001b[1m \u001b[0m┃\u001b[1m \u001b[0m\u001b[1m        Param #\u001b[0m\u001b[1m \u001b[0m┃\n",
       "┡━━━━━━━━━━━━━━━━━━━━━━━━━━━━━━━━━━━━━━╇━━━━━━━━━━━━━━━━━━━━━━━━━━━━━╇━━━━━━━━━━━━━━━━━┩\n",
       "│ embedding_2 (\u001b[38;5;33mEmbedding\u001b[0m)              │ ?                           │       \u001b[38;5;34m2,664,900\u001b[0m │\n",
       "├──────────────────────────────────────┼─────────────────────────────┼─────────────────┤\n",
       "│ bidirectional_2 (\u001b[38;5;33mBidirectional\u001b[0m)      │ ?                           │     \u001b[38;5;34m0\u001b[0m (unbuilt) │\n",
       "├──────────────────────────────────────┼─────────────────────────────┼─────────────────┤\n",
       "│ global_max_pooling1d_2               │ ?                           │               \u001b[38;5;34m0\u001b[0m │\n",
       "│ (\u001b[38;5;33mGlobalMaxPooling1D\u001b[0m)                 │                             │                 │\n",
       "├──────────────────────────────────────┼─────────────────────────────┼─────────────────┤\n",
       "│ dense_12 (\u001b[38;5;33mDense\u001b[0m)                     │ ?                           │     \u001b[38;5;34m0\u001b[0m (unbuilt) │\n",
       "├──────────────────────────────────────┼─────────────────────────────┼─────────────────┤\n",
       "│ dropout_10 (\u001b[38;5;33mDropout\u001b[0m)                 │ ?                           │               \u001b[38;5;34m0\u001b[0m │\n",
       "├──────────────────────────────────────┼─────────────────────────────┼─────────────────┤\n",
       "│ dense_13 (\u001b[38;5;33mDense\u001b[0m)                     │ ?                           │     \u001b[38;5;34m0\u001b[0m (unbuilt) │\n",
       "├──────────────────────────────────────┼─────────────────────────────┼─────────────────┤\n",
       "│ dropout_11 (\u001b[38;5;33mDropout\u001b[0m)                 │ ?                           │               \u001b[38;5;34m0\u001b[0m │\n",
       "├──────────────────────────────────────┼─────────────────────────────┼─────────────────┤\n",
       "│ dense_14 (\u001b[38;5;33mDense\u001b[0m)                     │ ?                           │     \u001b[38;5;34m0\u001b[0m (unbuilt) │\n",
       "├──────────────────────────────────────┼─────────────────────────────┼─────────────────┤\n",
       "│ dropout_12 (\u001b[38;5;33mDropout\u001b[0m)                 │ ?                           │               \u001b[38;5;34m0\u001b[0m │\n",
       "├──────────────────────────────────────┼─────────────────────────────┼─────────────────┤\n",
       "│ dense_15 (\u001b[38;5;33mDense\u001b[0m)                     │ ?                           │     \u001b[38;5;34m0\u001b[0m (unbuilt) │\n",
       "├──────────────────────────────────────┼─────────────────────────────┼─────────────────┤\n",
       "│ dropout_13 (\u001b[38;5;33mDropout\u001b[0m)                 │ ?                           │               \u001b[38;5;34m0\u001b[0m │\n",
       "├──────────────────────────────────────┼─────────────────────────────┼─────────────────┤\n",
       "│ dense_16 (\u001b[38;5;33mDense\u001b[0m)                     │ ?                           │     \u001b[38;5;34m0\u001b[0m (unbuilt) │\n",
       "├──────────────────────────────────────┼─────────────────────────────┼─────────────────┤\n",
       "│ dropout_14 (\u001b[38;5;33mDropout\u001b[0m)                 │ ?                           │               \u001b[38;5;34m0\u001b[0m │\n",
       "├──────────────────────────────────────┼─────────────────────────────┼─────────────────┤\n",
       "│ dense_17 (\u001b[38;5;33mDense\u001b[0m)                     │ ?                           │     \u001b[38;5;34m0\u001b[0m (unbuilt) │\n",
       "└──────────────────────────────────────┴─────────────────────────────┴─────────────────┘\n"
      ]
     },
     "metadata": {},
     "output_type": "display_data"
    },
    {
     "data": {
      "text/html": [
       "<pre style=\"white-space:pre;overflow-x:auto;line-height:normal;font-family:Menlo,'DejaVu Sans Mono',consolas,'Courier New',monospace\"><span style=\"font-weight: bold\"> Total params: </span><span style=\"color: #00af00; text-decoration-color: #00af00\">2,664,900</span> (10.17 MB)\n",
       "</pre>\n"
      ],
      "text/plain": [
       "\u001b[1m Total params: \u001b[0m\u001b[38;5;34m2,664,900\u001b[0m (10.17 MB)\n"
      ]
     },
     "metadata": {},
     "output_type": "display_data"
    },
    {
     "data": {
      "text/html": [
       "<pre style=\"white-space:pre;overflow-x:auto;line-height:normal;font-family:Menlo,'DejaVu Sans Mono',consolas,'Courier New',monospace\"><span style=\"font-weight: bold\"> Trainable params: </span><span style=\"color: #00af00; text-decoration-color: #00af00\">2,664,900</span> (10.17 MB)\n",
       "</pre>\n"
      ],
      "text/plain": [
       "\u001b[1m Trainable params: \u001b[0m\u001b[38;5;34m2,664,900\u001b[0m (10.17 MB)\n"
      ]
     },
     "metadata": {},
     "output_type": "display_data"
    },
    {
     "data": {
      "text/html": [
       "<pre style=\"white-space:pre;overflow-x:auto;line-height:normal;font-family:Menlo,'DejaVu Sans Mono',consolas,'Courier New',monospace\"><span style=\"font-weight: bold\"> Non-trainable params: </span><span style=\"color: #00af00; text-decoration-color: #00af00\">0</span> (0.00 B)\n",
       "</pre>\n"
      ],
      "text/plain": [
       "\u001b[1m Non-trainable params: \u001b[0m\u001b[38;5;34m0\u001b[0m (0.00 B)\n"
      ]
     },
     "metadata": {},
     "output_type": "display_data"
    }
   ],
   "source": [
    "bidirectional_lstm_model = keras.Sequential(\n",
    "    [\n",
    "        Embedding(input_dim=embedding_matrix.shape[0], output_dim=embedding_matrix.shape[1], weights= [embedding_matrix]),\n",
    "        keras.layers.Bidirectional(LSTM(len_longest_text, return_sequences=True)),\n",
    "        GlobalMaxPooling1D(),\n",
    "        Dense(1024, activation='relu'),\n",
    "        Dropout(0.25),\n",
    "        Dense(512, activation='relu'),\n",
    "        Dropout(0.25),\n",
    "        Dense(256, activation='relu'),\n",
    "        Dropout(0.25),\n",
    "        Dense(128, activation='relu'),\n",
    "        Dropout(0.25),\n",
    "        Dense(64, activation='relu'),\n",
    "        Dropout(0.25),\n",
    "        Dense(4, activation='softmax')\n",
    "    ]\n",
    ")\n",
    "\n",
    "bidirectional_lstm_model.summary()"
   ]
  },
  {
   "cell_type": "markdown",
   "id": "bb65cd70-7df4-44e5-9a07-876218c123d7",
   "metadata": {},
   "source": [
    "For the second algorithm, a Bidirectional Long-Short Term Memory (biLSTM) was selected which processes sequential data in both forward and backward directions. LSTM addresses the vanishing gradient limitation of RNNs. Using memory cells and a gating mechanism to selectively retain or forget information over time, allowing the model to capture long-term dependencies in a sequence. \n",
    "\n",
    "biLSTM model structure:\n",
    "* Embedding layer - the pre-trained vector representation of the vocabulary from Glove embeddings\n",
    "* Bidirectional LSTM layer - to capture contextual dependencies in both forward and backward directions\n",
    "* GlobalMaxPooling1D layer - to aggregate the most significant features / strongest activations into a single fixed-size vector.\n",
    "* Dense layers - sets of connected neurons with 'relu' activation function\n",
    "* Dropout layers - to prevent overfitting, randomly deactivate 25% of neurons during training\n",
    "* The final output layer with the 'softmax' activation converts the output to a probability distribution for each class label"
   ]
  },
  {
   "cell_type": "markdown",
   "id": "6b1b0be6-aaea-4384-84b3-d7790fa8ec35",
   "metadata": {},
   "source": [
    "## Section 4 - Evaluation & Discussion of Results"
   ]
  },
  {
   "cell_type": "markdown",
   "id": "50cf1919-eec1-4e15-96f9-35a381375b2c",
   "metadata": {},
   "source": [
    "### Evaluation of the kNN classifier with TF-IDF text representation"
   ]
  },
  {
   "cell_type": "code",
   "execution_count": 88,
   "id": "5b2676fe-1a70-42a3-b905-8089abcd94fd",
   "metadata": {},
   "outputs": [
    {
     "name": "stdout",
     "output_type": "stream",
     "text": [
      "Cross-validation mean accuracy score: 0.76\n"
     ]
    }
   ],
   "source": [
    "# KNeighborsClassifier cross-validation using the training data\n",
    "accuracy_scores = []\n",
    "\n",
    "x = train_df['processed_text']\n",
    "y = train_df['class']\n",
    "\n",
    "kf = StratifiedKFold(n_splits=5)\n",
    "for train, test in kf.split(x,y):\n",
    "\n",
    "  x_train, x_test, y_train, y_test = x[train], x[test], y[train], y[test]\n",
    "\n",
    "  knn_pipeline.fit(x_train, y_train)\n",
    "  predictions = knn_pipeline.predict(x_test)\n",
    "  acc = accuracy_score(predictions, y_test)\n",
    "  accuracy_scores.append(acc)\n",
    "\n",
    "# print(accuracy_scores)\n",
    "print(f'Cross-validation mean accuracy score: {np.mean(accuracy_scores):.2f}')"
   ]
  },
  {
   "cell_type": "code",
   "execution_count": 89,
   "id": "ed38aaa8-7977-4776-93bf-3386e2d8f05c",
   "metadata": {},
   "outputs": [
    {
     "name": "stdout",
     "output_type": "stream",
     "text": [
      "              precision    recall  f1-score   support\n",
      "\n",
      "           1       0.83      0.82      0.82      1900\n",
      "           2       0.82      0.88      0.85      1900\n",
      "           3       0.82      0.75      0.78      1900\n",
      "           4       0.77      0.78      0.77      1900\n",
      "\n",
      "    accuracy                           0.81      7600\n",
      "   macro avg       0.81      0.81      0.81      7600\n",
      "weighted avg       0.81      0.81      0.81      7600\n",
      "\n"
     ]
    }
   ],
   "source": [
    "# KNeighborsClassifier trained on full train data and evaluated on test data\n",
    "\n",
    "X_train_knn = train_df['processed_text']\n",
    "y_train_knn = train_df['class']\n",
    "\n",
    "X_test_knn = test_df['processed_text']\n",
    "y_test_knn = test_df['class']\n",
    "\n",
    "knn_pipeline.fit(X_train_knn, y_train_knn)\n",
    "knn_predictions = knn_pipeline.predict(X_test_knn)\n",
    "\n",
    "print(classification_report(y_test_knn, knn_predictions))"
   ]
  },
  {
   "cell_type": "code",
   "execution_count": null,
   "id": "b7095a48-d9b3-47e2-ba7b-e76bea5a28d6",
   "metadata": {},
   "outputs": [],
   "source": []
  },
  {
   "cell_type": "markdown",
   "id": "801d03af-9460-4cea-8939-fdd752c3e06b",
   "metadata": {},
   "source": [
    "### Evaluation of the Bidirectional LSTM model with Glove embeddings"
   ]
  },
  {
   "cell_type": "code",
   "execution_count": 90,
   "id": "348caef6-078b-4f87-9c80-84ddbea1c18d",
   "metadata": {},
   "outputs": [
    {
     "name": "stdout",
     "output_type": "stream",
     "text": [
      "Epoch 1/10\n",
      "\u001b[1m3750/3750\u001b[0m \u001b[32m━━━━━━━━━━━━━━━━━━━━\u001b[0m\u001b[37m\u001b[0m \u001b[1m221s\u001b[0m 57ms/step - accuracy: 0.8611 - loss: 0.4140 - val_accuracy: 0.9178 - val_loss: 0.2637\n",
      "Epoch 2/10\n",
      "\u001b[1m3750/3750\u001b[0m \u001b[32m━━━━━━━━━━━━━━━━━━━━\u001b[0m\u001b[37m\u001b[0m \u001b[1m221s\u001b[0m 59ms/step - accuracy: 0.9259 - loss: 0.2332 - val_accuracy: 0.9218 - val_loss: 0.2449\n",
      "Epoch 3/10\n",
      "\u001b[1m3750/3750\u001b[0m \u001b[32m━━━━━━━━━━━━━━━━━━━━\u001b[0m\u001b[37m\u001b[0m \u001b[1m231s\u001b[0m 61ms/step - accuracy: 0.9402 - loss: 0.1839 - val_accuracy: 0.9199 - val_loss: 0.2658\n",
      "Epoch 4/10\n",
      "\u001b[1m3750/3750\u001b[0m \u001b[32m━━━━━━━━━━━━━━━━━━━━\u001b[0m\u001b[37m\u001b[0m \u001b[1m219s\u001b[0m 58ms/step - accuracy: 0.9522 - loss: 0.1472 - val_accuracy: 0.9222 - val_loss: 0.2746\n",
      "Epoch 5/10\n",
      "\u001b[1m3750/3750\u001b[0m \u001b[32m━━━━━━━━━━━━━━━━━━━━\u001b[0m\u001b[37m\u001b[0m \u001b[1m219s\u001b[0m 59ms/step - accuracy: 0.9605 - loss: 0.1163 - val_accuracy: 0.9178 - val_loss: 0.3284\n",
      "Epoch 6/10\n",
      "\u001b[1m3750/3750\u001b[0m \u001b[32m━━━━━━━━━━━━━━━━━━━━\u001b[0m\u001b[37m\u001b[0m \u001b[1m222s\u001b[0m 59ms/step - accuracy: 0.9683 - loss: 0.0979 - val_accuracy: 0.9155 - val_loss: 0.3943\n",
      "Epoch 7/10\n",
      "\u001b[1m3750/3750\u001b[0m \u001b[32m━━━━━━━━━━━━━━━━━━━━\u001b[0m\u001b[37m\u001b[0m \u001b[1m232s\u001b[0m 62ms/step - accuracy: 0.9740 - loss: 0.0774 - val_accuracy: 0.9150 - val_loss: 0.6086\n",
      "Epoch 8/10\n",
      "\u001b[1m3750/3750\u001b[0m \u001b[32m━━━━━━━━━━━━━━━━━━━━\u001b[0m\u001b[37m\u001b[0m \u001b[1m223s\u001b[0m 60ms/step - accuracy: 0.9789 - loss: 0.0642 - val_accuracy: 0.9107 - val_loss: 0.5414\n",
      "Epoch 8: early stopping\n"
     ]
    }
   ],
   "source": [
    "# Compile and train the bidirectional_lstm model\n",
    "\n",
    "# Define callback for early stopping\n",
    "callbacks = [\n",
    "    EarlyStopping(\n",
    "        monitor='val_accuracy',\n",
    "        patience=3, # number of epochs with no improvement\n",
    "        verbose=1\n",
    "    )\n",
    "]\n",
    "\n",
    "y_train = train_df['class'].apply(lambda x: x - 1).values\n",
    "y_test = test_df['class'].apply(lambda x: x - 1).values\n",
    "\n",
    "batch_size = 32\n",
    "epochs = 10\n",
    "\n",
    "bidirectional_lstm_model.compile(loss='sparse_categorical_crossentropy', optimizer='adam', metrics=['accuracy'])\n",
    "history = bidirectional_lstm_model.fit(train_padded_sentences, y_train, batch_size=batch_size, epochs=epochs, validation_data=(test_padded_sentences, y_test), callbacks=callbacks)"
   ]
  },
  {
   "cell_type": "code",
   "execution_count": 91,
   "id": "8d6239ca-ea85-4fd8-bd88-09d75fa0fc51",
   "metadata": {},
   "outputs": [
    {
     "data": {
      "image/png": "[encoded data removed]",
      "text/plain": [
       "<Figure size 640x480 with 1 Axes>"
      ]
     },
     "metadata": {},
     "output_type": "display_data"
    }
   ],
   "source": [
    "plt.plot(history.history['accuracy'])\n",
    "plt.plot(history.history['val_accuracy'])\n",
    "plt.title('Bidirectional LSTM Accuracy')\n",
    "plt.ylabel('Accuracy')\n",
    "plt.xlabel('Epoch')\n",
    "plt.legend(['Train', 'Validation'], loc='upper left')\n",
    "plt.show()"
   ]
  },
  {
   "cell_type": "code",
   "execution_count": 92,
   "id": "00d25b7d-5ddb-4ba9-a5e0-233723a11c02",
   "metadata": {},
   "outputs": [
    {
     "data": {
      "image/png": "[encoded data removed]",
      "text/plain": [
       "<Figure size 640x480 with 1 Axes>"
      ]
     },
     "metadata": {},
     "output_type": "display_data"
    }
   ],
   "source": [
    "plt.plot(history.history['loss'])\n",
    "plt.plot(history.history['val_loss'])\n",
    "plt.title('Bidirectional LSTM Loss')\n",
    "plt.ylabel('Loss')\n",
    "plt.xlabel('Epoch')\n",
    "plt.legend(['Train', 'Validation'], loc='upper left')\n",
    "plt.show()"
   ]
  },
  {
   "cell_type": "code",
   "execution_count": 93,
   "id": "810ffa05-9b86-47e0-bba5-1dc2f36d21d4",
   "metadata": {
    "scrolled": true
   },
   "outputs": [
    {
     "name": "stdout",
     "output_type": "stream",
     "text": [
      "\u001b[1m238/238\u001b[0m \u001b[32m━━━━━━━━━━━━━━━━━━━━\u001b[0m\u001b[37m\u001b[0m \u001b[1m4s\u001b[0m 16ms/step\n",
      "Bidirectional LSTM Accuracy: 0.9106578947368421\n"
     ]
    }
   ],
   "source": [
    "# Make prediction on the test set using the bidirectional LSTM model\n",
    "predictions = [np.argmax(i) for i in bidirectional_lstm_model.predict(test_padded_sentences)]\n",
    "# print(predictions[:5])\n",
    "\n",
    "bidirectional_lstm_model_acc = accuracy_score(predictions, y_test)\n",
    "# bidirectional_lstm_model_f1 = f1_score(y_test, predictions, average='micro')\n",
    "\n",
    "print(f'Bidirectional LSTM Accuracy: {bidirectional_lstm_model_acc}')\n",
    "# print(f'Bidirectional LSTM F1: {bidirectional_lstm_model_f1}')\n"
   ]
  },
  {
   "cell_type": "code",
   "execution_count": 94,
   "id": "4224f515-2da2-4bf6-aba0-e0a8a81490ed",
   "metadata": {},
   "outputs": [
    {
     "data": {
      "image/png": "[encoded data removed]",
      "text/plain": [
       "<Figure size 640x480 with 2 Axes>"
      ]
     },
     "metadata": {},
     "output_type": "display_data"
    },
    {
     "data": {
      "image/png": "[encoded data removed]",
      "text/plain": [
       "<Figure size 640x480 with 2 Axes>"
      ]
     },
     "metadata": {},
     "output_type": "display_data"
    }
   ],
   "source": [
    "labels = ['Business', 'Sci-Tech', 'Sports', 'World']\n",
    "\n",
    "disp = ConfusionMatrixDisplay.from_predictions(y_test_knn, knn_predictions, display_labels=labels)\n",
    "disp = ConfusionMatrixDisplay.from_predictions(y_test, predictions, display_labels=labels)"
   ]
  },
  {
   "cell_type": "markdown",
   "id": "b494252f-6e2e-4c69-9273-65c348e4cd73",
   "metadata": {},
   "source": [
    "## Section 5 - Paper Overview"
   ]
  },
  {
   "cell_type": "markdown",
   "id": "f83c35f8-5a3c-4178-a86f-966fb60834b9",
   "metadata": {},
   "source": [
    "Conventional supervised text classification methods typically require a large amount of labelled training data. In contrast, Lbl2Vec introduces an approach that eliminates this dependency by leveraging semantic similarities between documents and predefined keywords describing the semantic boundaries for each topic / label. This ability of Lbl2Vec comes that it automatically generates jointly embedded label (from previously defined keywords representing a topic), document and word vectors. The algorithm captures semantic relationships between documents and labels by computing the label vector & document vector similarities for each label and document vector in the dataset. Based on the results, jointly created embeddings tend to outperfrom previous techniques reliant on statistical embedding approaches. \n",
    "\n",
    "\n",
    "This unsupervised approach requires almost no pre-processing of the data – (only lower-casing and tokenisation needed) as well as save annotation costs and reduce the reliance on large-sale labelled datasets while allowing for a highly accurate document classification. \n",
    "In case of the AG’s news corpus, there are four rather distinct topics that news articles can belong to which allows for defining unique keywords that are dissimilar from each other and can accurately represent each topic.\n",
    "\n",
    "\n",
    "Semantic similarities between document and pre-defined keywords are calculated by the model for each topic and threshold are adjusted by a hyperparameter which indicates that this approach could also be extended to multi-label classification problems.  \n"
   ]
  },
  {
   "cell_type": "markdown",
   "id": "f961da0e-76c7-4b0e-9719-d262e32be757",
   "metadata": {},
   "source": [
    "## Section 6 - Lbl2Vec Implementation"
   ]
  },
  {
   "cell_type": "markdown",
   "id": "38a27d86-210f-4af1-880f-12f9cc0be17f",
   "metadata": {},
   "source": [
    "### Data Preparation for Lbl2Vec"
   ]
  },
  {
   "cell_type": "code",
   "execution_count": 95,
   "id": "b011ee48-4feb-4bb9-a9b3-72b90ed280e1",
   "metadata": {
    "scrolled": true
   },
   "outputs": [
    {
     "data": {
      "text/html": [
       "<div>\n",
       "<style scoped>\n",
       "    .dataframe tbody tr th:only-of-type {\n",
       "        vertical-align: middle;\n",
       "    }\n",
       "\n",
       "    .dataframe tbody tr th {\n",
       "        vertical-align: top;\n",
       "    }\n",
       "\n",
       "    .dataframe thead th {\n",
       "        text-align: right;\n",
       "    }\n",
       "</style>\n",
       "<table border=\"1\" class=\"dataframe\">\n",
       "  <thead>\n",
       "    <tr style=\"text-align: right;\">\n",
       "      <th></th>\n",
       "      <th>class_index</th>\n",
       "      <th>class_name</th>\n",
       "      <th>keywords</th>\n",
       "      <th>number_of_keywords</th>\n",
       "    </tr>\n",
       "  </thead>\n",
       "  <tbody>\n",
       "    <tr>\n",
       "      <th>0</th>\n",
       "      <td>1</td>\n",
       "      <td>World</td>\n",
       "      <td>[election, state, president, police, politics,...</td>\n",
       "      <td>11</td>\n",
       "    </tr>\n",
       "    <tr>\n",
       "      <th>1</th>\n",
       "      <td>2</td>\n",
       "      <td>Sports</td>\n",
       "      <td>[olympic, football, sport, league, baseball, r...</td>\n",
       "      <td>32</td>\n",
       "    </tr>\n",
       "    <tr>\n",
       "      <th>2</th>\n",
       "      <td>3</td>\n",
       "      <td>Business</td>\n",
       "      <td>[company, market, oil, consumers, exchange, bu...</td>\n",
       "      <td>10</td>\n",
       "    </tr>\n",
       "    <tr>\n",
       "      <th>3</th>\n",
       "      <td>4</td>\n",
       "      <td>Science/Technology</td>\n",
       "      <td>[laboratory, computers, science, technology, w...</td>\n",
       "      <td>18</td>\n",
       "    </tr>\n",
       "  </tbody>\n",
       "</table>\n",
       "</div>"
      ],
      "text/plain": [
       "   class_index          class_name  \\\n",
       "0            1               World   \n",
       "1            2              Sports   \n",
       "2            3            Business   \n",
       "3            4  Science/Technology   \n",
       "\n",
       "                                            keywords  number_of_keywords  \n",
       "0  [election, state, president, police, politics,...                  11  \n",
       "1  [olympic, football, sport, league, baseball, r...                  32  \n",
       "2  [company, market, oil, consumers, exchange, bu...                  10  \n",
       "3  [laboratory, computers, science, technology, w...                  18  "
      ]
     },
     "execution_count": 95,
     "metadata": {},
     "output_type": "execute_result"
    }
   ],
   "source": [
    "# load labels with keywords\n",
    "labels = pd.read_csv('ag_news_data/labels.csv',sep=';')\n",
    "\n",
    "# split keywords by separator and save them as array\n",
    "labels['keywords'] = labels['keywords'].apply(lambda x: x.split(' '))\n",
    "\n",
    "# convert description keywords to lowercase\n",
    "labels['keywords'] = labels['keywords'].apply(lambda description_keywords: [keyword.lower() for keyword in description_keywords])\n",
    "\n",
    "# get number of keywords for each class\n",
    "labels['number_of_keywords'] = labels['keywords'].apply(lambda row: len(row))\n",
    "\n",
    "labels"
   ]
  },
  {
   "cell_type": "code",
   "execution_count": 96,
   "id": "fa26df2e-a67f-4bbf-b0e9-0fa1de0498de",
   "metadata": {},
   "outputs": [
    {
     "data": {
      "text/html": [
       "<div>\n",
       "<style scoped>\n",
       "    .dataframe tbody tr th:only-of-type {\n",
       "        vertical-align: middle;\n",
       "    }\n",
       "\n",
       "    .dataframe tbody tr th {\n",
       "        vertical-align: top;\n",
       "    }\n",
       "\n",
       "    .dataframe thead th {\n",
       "        text-align: right;\n",
       "    }\n",
       "</style>\n",
       "<table border=\"1\" class=\"dataframe\">\n",
       "  <thead>\n",
       "    <tr style=\"text-align: right;\">\n",
       "      <th></th>\n",
       "      <th>class</th>\n",
       "      <th>title</th>\n",
       "      <th>description</th>\n",
       "      <th>processed_text</th>\n",
       "      <th>data_set_type</th>\n",
       "    </tr>\n",
       "  </thead>\n",
       "  <tbody>\n",
       "    <tr>\n",
       "      <th>0</th>\n",
       "      <td>3</td>\n",
       "      <td>Wall St. Bears Claw Back Into the Black (Reuters)</td>\n",
       "      <td>Reuters - Short-sellers, Wall Street's dwindli...</td>\n",
       "      <td>wall bear claw back black reuters reuters wall...</td>\n",
       "      <td>train</td>\n",
       "    </tr>\n",
       "    <tr>\n",
       "      <th>1</th>\n",
       "      <td>3</td>\n",
       "      <td>Carlyle Looks Toward Commercial Aerospace (Reu...</td>\n",
       "      <td>Reuters - Private investment firm Carlyle Grou...</td>\n",
       "      <td>carlyle look toward commercial aerospace reute...</td>\n",
       "      <td>train</td>\n",
       "    </tr>\n",
       "    <tr>\n",
       "      <th>2</th>\n",
       "      <td>3</td>\n",
       "      <td>Oil and Economy Cloud Stocks' Outlook (Reuters)</td>\n",
       "      <td>Reuters - Soaring crude prices plus worries\\ab...</td>\n",
       "      <td>oil economy cloud stock outlook reuters reuter...</td>\n",
       "      <td>train</td>\n",
       "    </tr>\n",
       "    <tr>\n",
       "      <th>3</th>\n",
       "      <td>3</td>\n",
       "      <td>Iraq Halts Oil Exports from Main Southern Pipe...</td>\n",
       "      <td>Reuters - Authorities have halted oil export\\f...</td>\n",
       "      <td>iraq halt oil export main southern pipeline re...</td>\n",
       "      <td>train</td>\n",
       "    </tr>\n",
       "    <tr>\n",
       "      <th>4</th>\n",
       "      <td>3</td>\n",
       "      <td>Oil prices soar to all-time record, posing new...</td>\n",
       "      <td>AFP - Tearaway world oil prices, toppling reco...</td>\n",
       "      <td>oil price soar record posing new menace u econ...</td>\n",
       "      <td>train</td>\n",
       "    </tr>\n",
       "  </tbody>\n",
       "</table>\n",
       "</div>"
      ],
      "text/plain": [
       "   class                                              title  \\\n",
       "0      3  Wall St. Bears Claw Back Into the Black (Reuters)   \n",
       "1      3  Carlyle Looks Toward Commercial Aerospace (Reu...   \n",
       "2      3    Oil and Economy Cloud Stocks' Outlook (Reuters)   \n",
       "3      3  Iraq Halts Oil Exports from Main Southern Pipe...   \n",
       "4      3  Oil prices soar to all-time record, posing new...   \n",
       "\n",
       "                                         description  \\\n",
       "0  Reuters - Short-sellers, Wall Street's dwindli...   \n",
       "1  Reuters - Private investment firm Carlyle Grou...   \n",
       "2  Reuters - Soaring crude prices plus worries\\ab...   \n",
       "3  Reuters - Authorities have halted oil export\\f...   \n",
       "4  AFP - Tearaway world oil prices, toppling reco...   \n",
       "\n",
       "                                      processed_text data_set_type  \n",
       "0  wall bear claw back black reuters reuters wall...         train  \n",
       "1  carlyle look toward commercial aerospace reute...         train  \n",
       "2  oil economy cloud stock outlook reuters reuter...         train  \n",
       "3  iraq halt oil export main southern pipeline re...         train  \n",
       "4  oil price soar record posing new menace u econ...         train  "
      ]
     },
     "execution_count": 96,
     "metadata": {},
     "output_type": "execute_result"
    }
   ],
   "source": [
    "train_df['data_set_type'] = 'train'\n",
    "test_df['data_set_type'] = 'test'\n",
    "\n",
    "full_df = pd.concat([train_df, test_df]).reset_index(drop=True)\n",
    "\n",
    "full_df.head()"
   ]
  },
  {
   "cell_type": "code",
   "execution_count": 97,
   "id": "92d4404f-4d81-424a-8120-07a4f7bf6e42",
   "metadata": {},
   "outputs": [],
   "source": [
    "# Tag pre-processed documents using TaggedDocument\n",
    "full_df['tagged_docs'] = full_df.apply(lambda row: TaggedDocument(row['processed_text'].split(' '), [str(row.name)]), axis=1)"
   ]
  },
  {
   "cell_type": "code",
   "execution_count": 98,
   "id": "c50f48ed-2cea-4573-8c14-3e3605c8e1f9",
   "metadata": {},
   "outputs": [],
   "source": [
    "# Add 'doc_key' column\n",
    "full_df['doc_key'] = full_df.index.astype(str)"
   ]
  },
  {
   "cell_type": "code",
   "execution_count": 99,
   "id": "9d2a8a44-a9d7-431c-90db-0d6c17f6185d",
   "metadata": {
    "scrolled": true
   },
   "outputs": [
    {
     "data": {
      "text/html": [
       "<div>\n",
       "<style scoped>\n",
       "    .dataframe tbody tr th:only-of-type {\n",
       "        vertical-align: middle;\n",
       "    }\n",
       "\n",
       "    .dataframe tbody tr th {\n",
       "        vertical-align: top;\n",
       "    }\n",
       "\n",
       "    .dataframe thead th {\n",
       "        text-align: right;\n",
       "    }\n",
       "</style>\n",
       "<table border=\"1\" class=\"dataframe\">\n",
       "  <thead>\n",
       "    <tr style=\"text-align: right;\">\n",
       "      <th></th>\n",
       "      <th>title</th>\n",
       "      <th>description</th>\n",
       "      <th>processed_text</th>\n",
       "      <th>data_set_type</th>\n",
       "      <th>tagged_docs</th>\n",
       "      <th>doc_key</th>\n",
       "      <th>class_index</th>\n",
       "      <th>class_name</th>\n",
       "      <th>number_of_keywords</th>\n",
       "    </tr>\n",
       "  </thead>\n",
       "  <tbody>\n",
       "    <tr>\n",
       "      <th>0</th>\n",
       "      <td>Wall St. Bears Claw Back Into the Black (Reuters)</td>\n",
       "      <td>Reuters - Short-sellers, Wall Street's dwindli...</td>\n",
       "      <td>wall bear claw back black reuters reuters wall...</td>\n",
       "      <td>train</td>\n",
       "      <td>([wall, bear, claw, back, black, reuters, reut...</td>\n",
       "      <td>0</td>\n",
       "      <td>3</td>\n",
       "      <td>Business</td>\n",
       "      <td>10</td>\n",
       "    </tr>\n",
       "    <tr>\n",
       "      <th>1</th>\n",
       "      <td>Carlyle Looks Toward Commercial Aerospace (Reu...</td>\n",
       "      <td>Reuters - Private investment firm Carlyle Grou...</td>\n",
       "      <td>carlyle look toward commercial aerospace reute...</td>\n",
       "      <td>train</td>\n",
       "      <td>([carlyle, look, toward, commercial, aerospace...</td>\n",
       "      <td>1</td>\n",
       "      <td>3</td>\n",
       "      <td>Business</td>\n",
       "      <td>10</td>\n",
       "    </tr>\n",
       "    <tr>\n",
       "      <th>2</th>\n",
       "      <td>Oil and Economy Cloud Stocks' Outlook (Reuters)</td>\n",
       "      <td>Reuters - Soaring crude prices plus worries\\ab...</td>\n",
       "      <td>oil economy cloud stock outlook reuters reuter...</td>\n",
       "      <td>train</td>\n",
       "      <td>([oil, economy, cloud, stock, outlook, reuters...</td>\n",
       "      <td>2</td>\n",
       "      <td>3</td>\n",
       "      <td>Business</td>\n",
       "      <td>10</td>\n",
       "    </tr>\n",
       "    <tr>\n",
       "      <th>3</th>\n",
       "      <td>Iraq Halts Oil Exports from Main Southern Pipe...</td>\n",
       "      <td>Reuters - Authorities have halted oil export\\f...</td>\n",
       "      <td>iraq halt oil export main southern pipeline re...</td>\n",
       "      <td>train</td>\n",
       "      <td>([iraq, halt, oil, export, main, southern, pip...</td>\n",
       "      <td>3</td>\n",
       "      <td>3</td>\n",
       "      <td>Business</td>\n",
       "      <td>10</td>\n",
       "    </tr>\n",
       "    <tr>\n",
       "      <th>4</th>\n",
       "      <td>Oil prices soar to all-time record, posing new...</td>\n",
       "      <td>AFP - Tearaway world oil prices, toppling reco...</td>\n",
       "      <td>oil price soar record posing new menace u econ...</td>\n",
       "      <td>train</td>\n",
       "      <td>([oil, price, soar, record, posing, new, menac...</td>\n",
       "      <td>4</td>\n",
       "      <td>3</td>\n",
       "      <td>Business</td>\n",
       "      <td>10</td>\n",
       "    </tr>\n",
       "  </tbody>\n",
       "</table>\n",
       "</div>"
      ],
      "text/plain": [
       "                                               title  \\\n",
       "0  Wall St. Bears Claw Back Into the Black (Reuters)   \n",
       "1  Carlyle Looks Toward Commercial Aerospace (Reu...   \n",
       "2    Oil and Economy Cloud Stocks' Outlook (Reuters)   \n",
       "3  Iraq Halts Oil Exports from Main Southern Pipe...   \n",
       "4  Oil prices soar to all-time record, posing new...   \n",
       "\n",
       "                                         description  \\\n",
       "0  Reuters - Short-sellers, Wall Street's dwindli...   \n",
       "1  Reuters - Private investment firm Carlyle Grou...   \n",
       "2  Reuters - Soaring crude prices plus worries\\ab...   \n",
       "3  Reuters - Authorities have halted oil export\\f...   \n",
       "4  AFP - Tearaway world oil prices, toppling reco...   \n",
       "\n",
       "                                      processed_text data_set_type  \\\n",
       "0  wall bear claw back black reuters reuters wall...         train   \n",
       "1  carlyle look toward commercial aerospace reute...         train   \n",
       "2  oil economy cloud stock outlook reuters reuter...         train   \n",
       "3  iraq halt oil export main southern pipeline re...         train   \n",
       "4  oil price soar record posing new menace u econ...         train   \n",
       "\n",
       "                                         tagged_docs doc_key  class_index  \\\n",
       "0  ([wall, bear, claw, back, black, reuters, reut...       0            3   \n",
       "1  ([carlyle, look, toward, commercial, aerospace...       1            3   \n",
       "2  ([oil, economy, cloud, stock, outlook, reuters...       2            3   \n",
       "3  ([iraq, halt, oil, export, main, southern, pip...       3            3   \n",
       "4  ([oil, price, soar, record, posing, new, menac...       4            3   \n",
       "\n",
       "  class_name  number_of_keywords  \n",
       "0   Business                  10  \n",
       "1   Business                  10  \n",
       "2   Business                  10  \n",
       "3   Business                  10  \n",
       "4   Business                  10  "
      ]
     },
     "execution_count": 99,
     "metadata": {},
     "output_type": "execute_result"
    }
   ],
   "source": [
    "# Add 'class_name' column\n",
    "full_df = full_df.merge(labels, left_on='class', right_on='class_index', how='left').drop(['class', 'keywords'], axis=1)\n",
    "\n",
    "full_df.head()"
   ]
  },
  {
   "cell_type": "markdown",
   "id": "72780723-bfbb-41bc-a165-962a8f9984b7",
   "metadata": {},
   "source": [
    "### Train Lbl2Vec model"
   ]
  },
  {
   "cell_type": "code",
   "execution_count": 100,
   "id": "7212ba1e-5179-44ad-b8a7-283e45b086c1",
   "metadata": {},
   "outputs": [
    {
     "name": "stderr",
     "output_type": "stream",
     "text": [
      "2024-12-04 22:43:47,137 - Lbl2Vec - INFO - Train document and word embeddings\n",
      "2024-12-04 22:43:47,137 - Lbl2Vec - INFO - Train document and word embeddings\n",
      "2024-12-04 22:45:25,982 - Lbl2Vec - INFO - Train label embeddings\n",
      "2024-12-04 22:45:25,982 - Lbl2Vec - INFO - Train label embeddings\n",
      "2024-12-04 22:45:26,177 - Lbl2Vec - WARNING - The following keywords from the 'keywords_list' are unknown to the Doc2Vec model and therefore not used to train the model: tickets games\n",
      "2024-12-04 22:45:26,177 - Lbl2Vec - WARNING - The following keywords from the 'keywords_list' are unknown to the Doc2Vec model and therefore not used to train the model: tickets games\n",
      "2024-12-04 22:45:26,346 - Lbl2Vec - WARNING - The following keywords from the 'keywords_list' are unknown to the Doc2Vec model and therefore not used to train the model: consumers stocks\n",
      "2024-12-04 22:45:26,346 - Lbl2Vec - WARNING - The following keywords from the 'keywords_list' are unknown to the Doc2Vec model and therefore not used to train the model: consumers stocks\n",
      "2024-12-04 22:45:26,482 - Lbl2Vec - WARNING - The following keywords from the 'keywords_list' are unknown to the Doc2Vec model and therefore not used to train the model: computers\n",
      "2024-12-04 22:45:26,482 - Lbl2Vec - WARNING - The following keywords from the 'keywords_list' are unknown to the Doc2Vec model and therefore not used to train the model: computers\n"
     ]
    }
   ],
   "source": [
    "# Instantiate and train the model\n",
    "lbl2vec_model = Lbl2Vec(keywords_list=list(labels['keywords']), tagged_documents=full_df['tagged_docs'][full_df['data_set_type']=='train'], label_names=list(labels['class_name']), similarity_threshold=0.30, min_num_docs=100, epochs=10)\n",
    "lbl2vec_model.fit()"
   ]
  },
  {
   "cell_type": "markdown",
   "id": "11390f8d-f2a4-4c5a-88dc-e93fef27841a",
   "metadata": {},
   "source": [
    "## Section 7 - Evaluation of Lbl2Vec"
   ]
  },
  {
   "cell_type": "markdown",
   "id": "2ad3fac1-6221-4e85-beae-c47166032ae4",
   "metadata": {},
   "source": [
    "### Evaluation of Lbl2Vec on the test set"
   ]
  },
  {
   "cell_type": "code",
   "execution_count": 101,
   "id": "c1f5ad04-20b6-478d-a027-5099a5751f24",
   "metadata": {
    "scrolled": true
   },
   "outputs": [
    {
     "name": "stderr",
     "output_type": "stream",
     "text": [
      "2024-12-04 22:45:27,301 - Lbl2Vec - INFO - Calculate document embeddings\n",
      "2024-12-04 22:45:27,301 - Lbl2Vec - INFO - Calculate document embeddings\n",
      "2024-12-04 22:45:30,382 - Lbl2Vec - INFO - Calculate document<->label similarities\n",
      "2024-12-04 22:45:30,382 - Lbl2Vec - INFO - Calculate document<->label similarities\n"
     ]
    },
    {
     "data": {
      "text/html": [
       "<div>\n",
       "<style scoped>\n",
       "    .dataframe tbody tr th:only-of-type {\n",
       "        vertical-align: middle;\n",
       "    }\n",
       "\n",
       "    .dataframe tbody tr th {\n",
       "        vertical-align: top;\n",
       "    }\n",
       "\n",
       "    .dataframe thead th {\n",
       "        text-align: right;\n",
       "    }\n",
       "</style>\n",
       "<table border=\"1\" class=\"dataframe\">\n",
       "  <thead>\n",
       "    <tr style=\"text-align: right;\">\n",
       "      <th></th>\n",
       "      <th>doc_key</th>\n",
       "      <th>most_similar_label</th>\n",
       "      <th>highest_similarity_score</th>\n",
       "      <th>World</th>\n",
       "      <th>Sports</th>\n",
       "      <th>Business</th>\n",
       "      <th>Science/Technology</th>\n",
       "    </tr>\n",
       "  </thead>\n",
       "  <tbody>\n",
       "    <tr>\n",
       "      <th>0</th>\n",
       "      <td>120000</td>\n",
       "      <td>Business</td>\n",
       "      <td>0.435568</td>\n",
       "      <td>0.398520</td>\n",
       "      <td>0.351307</td>\n",
       "      <td>0.435568</td>\n",
       "      <td>0.420339</td>\n",
       "    </tr>\n",
       "    <tr>\n",
       "      <th>1</th>\n",
       "      <td>120001</td>\n",
       "      <td>Science/Technology</td>\n",
       "      <td>0.400270</td>\n",
       "      <td>0.320585</td>\n",
       "      <td>0.369920</td>\n",
       "      <td>0.332716</td>\n",
       "      <td>0.400270</td>\n",
       "    </tr>\n",
       "    <tr>\n",
       "      <th>2</th>\n",
       "      <td>120002</td>\n",
       "      <td>Science/Technology</td>\n",
       "      <td>0.418541</td>\n",
       "      <td>0.244998</td>\n",
       "      <td>0.324764</td>\n",
       "      <td>0.355762</td>\n",
       "      <td>0.418541</td>\n",
       "    </tr>\n",
       "    <tr>\n",
       "      <th>3</th>\n",
       "      <td>120003</td>\n",
       "      <td>Sports</td>\n",
       "      <td>0.382977</td>\n",
       "      <td>0.226312</td>\n",
       "      <td>0.382977</td>\n",
       "      <td>0.307154</td>\n",
       "      <td>0.358089</td>\n",
       "    </tr>\n",
       "    <tr>\n",
       "      <th>4</th>\n",
       "      <td>120004</td>\n",
       "      <td>Science/Technology</td>\n",
       "      <td>0.449341</td>\n",
       "      <td>0.340532</td>\n",
       "      <td>0.279371</td>\n",
       "      <td>0.413963</td>\n",
       "      <td>0.449341</td>\n",
       "    </tr>\n",
       "  </tbody>\n",
       "</table>\n",
       "</div>"
      ],
      "text/plain": [
       "  doc_key  most_similar_label  highest_similarity_score     World    Sports  \\\n",
       "0  120000            Business                  0.435568  0.398520  0.351307   \n",
       "1  120001  Science/Technology                  0.400270  0.320585  0.369920   \n",
       "2  120002  Science/Technology                  0.418541  0.244998  0.324764   \n",
       "3  120003              Sports                  0.382977  0.226312  0.382977   \n",
       "4  120004  Science/Technology                  0.449341  0.340532  0.279371   \n",
       "\n",
       "   Business  Science/Technology  \n",
       "0  0.435568            0.420339  \n",
       "1  0.332716            0.400270  \n",
       "2  0.355762            0.418541  \n",
       "3  0.307154            0.358089  \n",
       "4  0.413963            0.449341  "
      ]
     },
     "execution_count": 101,
     "metadata": {},
     "output_type": "execute_result"
    }
   ],
   "source": [
    "test_docs_lbl_similarities = lbl2vec_model.predict_new_docs(tagged_docs=full_df['tagged_docs'][full_df['data_set_type']=='test'])\n",
    "test_docs_lbl_similarities.head()"
   ]
  },
  {
   "cell_type": "code",
   "execution_count": 102,
   "id": "c649c756-7ea9-46a1-9409-c3e11868919c",
   "metadata": {
    "scrolled": true
   },
   "outputs": [
    {
     "name": "stdout",
     "output_type": "stream",
     "text": [
      "                    precision    recall  f1-score   support\n",
      "\n",
      "          Business       0.80      0.68      0.73      1900\n",
      "Science/Technology       0.78      0.72      0.75      1900\n",
      "            Sports       0.85      0.95      0.89      1900\n",
      "             World       0.77      0.86      0.81      1900\n",
      "\n",
      "          accuracy                           0.80      7600\n",
      "         macro avg       0.80      0.80      0.80      7600\n",
      "      weighted avg       0.80      0.80      0.80      7600\n",
      "\n",
      "F1 score: 0.8010526315789473\n"
     ]
    }
   ],
   "source": [
    "evaluation_test = test_docs_lbl_similarities.merge(full_df[full_df['data_set_type']=='test'], left_on='doc_key', right_on='doc_key')\n",
    "\n",
    "y_true_test = evaluation_test['class_name']\n",
    "y_pred_test = evaluation_test['most_similar_label']\n",
    "print(classification_report(y_true_test, y_pred_test))\n",
    "print('F1 score:',f1_score(y_true_test, y_pred_test, average='micro'))"
   ]
  },
  {
   "cell_type": "markdown",
   "id": "0d49c0cb-4f24-4082-9aab-591f13732507",
   "metadata": {},
   "source": [
    "F1 score in paper: 82.7\n",
    "\n",
    "The results in this project fall behind slightly from the ones published in the paper due to the fact that the same pre-processed text was fed to Lbl2Vec as to the other algorithms described above. These steps do slightly more processing (e.g.: stopword removal, lemmatization) which essentially might have led to losing some information affecting similarities between document <> label vectors."
   ]
  },
  {
   "cell_type": "code",
   "execution_count": 103,
   "id": "671493b4-44a7-4038-8f60-0eddbd28dc8e",
   "metadata": {
    "scrolled": true
   },
   "outputs": [
    {
     "data": {
      "image/png": "[encoded data removed]",
      "text/plain": [
       "<Figure size 640x480 with 2 Axes>"
      ]
     },
     "metadata": {},
     "output_type": "display_data"
    }
   ],
   "source": [
    "disp = ConfusionMatrixDisplay.from_predictions(y_true_test, y_pred_test)"
   ]
  },
  {
   "cell_type": "markdown",
   "id": "911a1978-e18d-4563-96ad-e2a59446b7bc",
   "metadata": {},
   "source": [
    "As shown in the matrix above, 'Sports' articles have been classified with the highest accuracy followed by 'World'. This suggests that although 'Sports' had almost three times as many keywords defined than 'World', the number of topic-related keywords are not in direct correlation with better results.  \n",
    "\n",
    "Compared to other models above, Lbl2Vec has been the most accurate for classifying sport articles, which suggests the following:\n",
    "* Keywords for 'Sport' are more similar to each other, while also being the most dissimilar from other topic keywords.\n",
    "\n",
    "A similar conclusion can be drawn for the poor performance of 'Business' and 'Science/Technology' classification. As the matrix shows, 'Business' was often mis-classified as 'Science/Technology' and vice versa, which suggests that the keyword dissimilarities for these two topics need to be improved."
   ]
  }
 ],
 "metadata": {
  "kernelspec": {
   "display_name": "Python 3 (ipykernel)",
   "language": "python",
   "name": "python3"
  },
  "language_info": {
   "codemirror_mode": {
    "name": "ipython",
    "version": 3
   },
   "file_extension": ".py",
   "mimetype": "text/x-python",
   "name": "python",
   "nbconvert_exporter": "python",
   "pygments_lexer": "ipython3",
   "version": "3.9.13"
  }
 },
 "nbformat": 4,
 "nbformat_minor": 5
}
